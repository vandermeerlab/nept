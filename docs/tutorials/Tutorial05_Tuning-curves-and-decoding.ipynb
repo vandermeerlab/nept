{
 "cells": [
  {
   "cell_type": "markdown",
   "metadata": {},
   "source": [
    "# Tutorial 05 - Tuning curves and decoding"
   ]
  },
  {
   "cell_type": "markdown",
   "metadata": {},
   "source": [
    "## Goals\n",
    "\n",
    "- Learn to estimate and plot 2D tuning curves\n",
    "- Implement a Bayesian decoding algorithm\n",
    "- Compare the decoded and actual positions by computing the decoding error"
   ]
  },
  {
   "cell_type": "markdown",
   "metadata": {},
   "source": [
    "## Compute the tuning curves"
   ]
  },
  {
   "cell_type": "code",
   "execution_count": null,
   "metadata": {
    "ExecuteTime": {
     "end_time": "2019-09-30T14:59:23.865928Z",
     "start_time": "2019-09-30T14:59:23.090955Z"
    }
   },
   "outputs": [],
   "source": [
    "# import necessary packages\n",
    "%matplotlib inline\n",
    "import os\n",
    "import sys\n",
    "import numpy as np\n",
    "import nept\n",
    "import matplotlib.pyplot as plt\n",
    "\n",
    "# define where your data folder is located\n",
    "data_path = os.path.join(os.path.abspath('.'), 'data')\n",
    "data_folder = os.path.join(data_path, 'R042-2013-08-18')"
   ]
  },
  {
   "cell_type": "code",
   "execution_count": null,
   "metadata": {
    "ExecuteTime": {
     "end_time": "2019-09-30T14:59:23.874558Z",
     "start_time": "2019-09-30T14:59:23.865928Z"
    }
   },
   "outputs": [],
   "source": [
    "# load the info file, which contains experiment-specific information\\\n",
    "sys.path.append(data_folder)\n",
    "import r042d3 as info"
   ]
  },
  {
   "cell_type": "code",
   "execution_count": null,
   "metadata": {
    "ExecuteTime": {
     "end_time": "2019-09-30T14:59:24.369292Z",
     "start_time": "2019-09-30T14:59:23.876557Z"
    }
   },
   "outputs": [],
   "source": [
    "# Load position (.nvt) from this experiment\n",
    "position = nept.load_position(os.path.join(data_folder, info.position_filename), info.pxl_to_cm)\n",
    "\n",
    "# Plot the position\n",
    "plt.plot(position.x, position.y, 'k.', ms=1)\n",
    "plt.show()"
   ]
  },
  {
   "cell_type": "code",
   "execution_count": null,
   "metadata": {
    "ExecuteTime": {
     "end_time": "2019-09-30T14:59:24.922975Z",
     "start_time": "2019-09-30T14:59:24.371292Z"
    }
   },
   "outputs": [],
   "source": [
    "# Load spikes (.t and ._t) from this experiment\n",
    "spikes = nept.load_spikes(data_folder)\n",
    "\n",
    "# Plot the spikes\n",
    "for idx, spiketrain in enumerate(spikes):\n",
    "    plt.plot(spiketrain.time, np.ones(len(spiketrain.time))+idx, '|')\n",
    "plt.show()"
   ]
  },
  {
   "cell_type": "code",
   "execution_count": null,
   "metadata": {
    "ExecuteTime": {
     "end_time": "2019-09-30T14:59:24.937950Z",
     "start_time": "2019-09-30T14:59:24.924957Z"
    }
   },
   "outputs": [],
   "source": [
    "# limit position and spikes to task times\n",
    "task_start = info.task_times['task'].start\n",
    "task_stop = info.task_times['task'].stop\n",
    "\n",
    "task_position = position.time_slice(task_start, task_stop)\n",
    "task_spikes = [spiketrain.time_slice(task_start, task_stop) for spiketrain in spikes]"
   ]
  },
  {
   "cell_type": "code",
   "execution_count": null,
   "metadata": {
    "ExecuteTime": {
     "end_time": "2019-09-30T14:59:24.969932Z",
     "start_time": "2019-09-30T14:59:24.939949Z"
    }
   },
   "outputs": [],
   "source": [
    "# limit position to those where the rat is running\n",
    "run_position = task_position[nept.run_threshold(task_position, thresh=1.1, t_smooth=1.0)]"
   ]
  },
  {
   "cell_type": "code",
   "execution_count": null,
   "metadata": {
    "ExecuteTime": {
     "end_time": "2019-09-30T14:59:25.135836Z",
     "start_time": "2019-09-30T14:59:24.971930Z"
    }
   },
   "outputs": [],
   "source": [
    "# Plot the running Y position over time\n",
    "plt.plot(run_position.time, run_position.y, 'b.', ms=1)\n",
    "plt.show()"
   ]
  },
  {
   "cell_type": "code",
   "execution_count": null,
   "metadata": {
    "ExecuteTime": {
     "end_time": "2019-09-30T14:59:25.311736Z",
     "start_time": "2019-09-30T14:59:25.136835Z"
    }
   },
   "outputs": [],
   "source": [
    "# Plot the running position\n",
    "plt.plot(run_position.x, run_position.y, 'b.', ms=1)\n",
    "plt.show()"
   ]
  },
  {
   "cell_type": "code",
   "execution_count": null,
   "metadata": {
    "ExecuteTime": {
     "end_time": "2019-09-30T14:59:25.739491Z",
     "start_time": "2019-09-30T14:59:25.313735Z"
    }
   },
   "outputs": [],
   "source": [
    "# Plot the task spikes\n",
    "for idx, spiketrain in enumerate(task_spikes):\n",
    "    plt.plot(spiketrain.time, np.ones(len(spiketrain.time))+idx, '|', color='k')\n",
    "plt.show()"
   ]
  },
  {
   "cell_type": "code",
   "execution_count": null,
   "metadata": {
    "ExecuteTime": {
     "end_time": "2019-09-30T14:59:25.744489Z",
     "start_time": "2019-09-30T14:59:25.740491Z"
    }
   },
   "outputs": [],
   "source": [
    "# Define the X and Y boundaries from the unfiltered position, with 3 cm bins\n",
    "xedges, yedges = nept.get_xyedges(position, binsize=3)"
   ]
  },
  {
   "cell_type": "code",
   "execution_count": null,
   "metadata": {
    "ExecuteTime": {
     "end_time": "2019-09-30T14:59:26.187235Z",
     "start_time": "2019-09-30T14:59:25.746486Z"
    }
   },
   "outputs": [],
   "source": [
    "tuning_curves = nept.tuning_curve_2d(run_position, np.array(task_spikes), xedges, yedges, \n",
    "                                     occupied_thresh=0.2, gaussian_std=0.1)"
   ]
  },
  {
   "cell_type": "code",
   "execution_count": null,
   "metadata": {
    "ExecuteTime": {
     "end_time": "2019-09-30T14:59:26.574013Z",
     "start_time": "2019-09-30T14:59:26.189233Z"
    },
    "scrolled": true
   },
   "outputs": [],
   "source": [
    "# Plot a few of the neuron's tuning curves\n",
    "xx, yy = np.meshgrid(xedges, yedges)\n",
    "\n",
    "for i in [7, 33, 41]:\n",
    "    print('neuron:', i)\n",
    "    plt.figure(figsize=(6, 5))\n",
    "    pp = plt.pcolormesh(xx, yy, tuning_curves[i], cmap='bone_r')\n",
    "    plt.colorbar(pp)\n",
    "    plt.axis('off')\n",
    "    plt.tight_layout()\n",
    "    plt.show()"
   ]
  },
  {
   "cell_type": "markdown",
   "metadata": {},
   "source": [
    "## Decoding\n",
    "\n",
    "Next, let's decode the location of the subject using a Bayesian algorithm.\n",
    "\n",
    "Specifically, this is a method known as \"one-step Bayesian decoding\" and is\n",
    "illustrated in this figure from van der Meer et al., 2010.\n",
    "\n",
    "<img src=\"05-bayesian-decoding.png\" width=\"800cm\">"
   ]
  },
  {
   "cell_type": "code",
   "execution_count": null,
   "metadata": {
    "ExecuteTime": {
     "end_time": "2019-09-30T14:59:27.670385Z",
     "start_time": "2019-09-30T14:59:26.575012Z"
    }
   },
   "outputs": [],
   "source": [
    "# Bin the spikes\n",
    "window_size = 0.0125\n",
    "window_advance = 0.0125\n",
    "\n",
    "time_edges = nept.get_edges(run_position.time[0], run_position.time[-1], window_advance, lastbin=True)\n",
    "counts = nept.bin_spikes(task_spikes, \n",
    "                         run_position.time[0], \n",
    "                         run_position.time[-1], \n",
    "                         dt=window_size, \n",
    "                         window=window_advance,\n",
    "                         gaussian_std=None, \n",
    "                         normalized=True)"
   ]
  },
  {
   "cell_type": "code",
   "execution_count": null,
   "metadata": {
    "ExecuteTime": {
     "end_time": "2019-09-30T14:59:27.677382Z",
     "start_time": "2019-09-30T14:59:27.673384Z"
    }
   },
   "outputs": [],
   "source": [
    "# Reshape the 2D tuning curves (essentially flatten them, while keeping the 2D information intact)\n",
    "tc_shape = tuning_curves.shape\n",
    "decode_tuning_curves = tuning_curves.reshape(tc_shape[0], tc_shape[1] * tc_shape[2])"
   ]
  },
  {
   "cell_type": "code",
   "execution_count": null,
   "metadata": {
    "ExecuteTime": {
     "end_time": "2019-09-30T15:00:12.973330Z",
     "start_time": "2019-09-30T14:59:27.680380Z"
    }
   },
   "outputs": [],
   "source": [
    "# Find the likelihoods - this could take a minute...\n",
    "likelihood = nept.bayesian_prob(counts, decode_tuning_curves, window_size, min_neurons=2, min_spikes=1)"
   ]
  },
  {
   "cell_type": "code",
   "execution_count": null,
   "metadata": {
    "ExecuteTime": {
     "end_time": "2019-09-30T15:00:12.979311Z",
     "start_time": "2019-09-30T15:00:12.975312Z"
    }
   },
   "outputs": [],
   "source": [
    "# Find the center of the position bins\n",
    "xcenters = (xedges[1:] + xedges[:-1]) / 2.\n",
    "ycenters = (yedges[1:] + yedges[:-1]) / 2.\n",
    "xy_centers = nept.cartesian(xcenters, ycenters)"
   ]
  },
  {
   "cell_type": "code",
   "execution_count": null,
   "metadata": {
    "ExecuteTime": {
     "end_time": "2019-09-30T15:00:15.901333Z",
     "start_time": "2019-09-30T15:00:12.981309Z"
    }
   },
   "outputs": [],
   "source": [
    "# Based on the likelihoods, find the decoded location\n",
    "decoded = nept.decode_location(likelihood, xy_centers, counts.time)\n",
    "nan_idx = np.logical_and(np.isnan(decoded.x), np.isnan(decoded.y))\n",
    "decoded = decoded[~nan_idx]"
   ]
  },
  {
   "cell_type": "code",
   "execution_count": null,
   "metadata": {
    "ExecuteTime": {
     "end_time": "2019-09-30T15:00:16.024243Z",
     "start_time": "2019-09-30T15:00:15.903313Z"
    }
   },
   "outputs": [],
   "source": [
    "# Plot the decoded position\n",
    "plt.plot(decoded.x, decoded.y, 'r.', ms=1)\n",
    "plt.show()"
   ]
  },
  {
   "cell_type": "markdown",
   "metadata": {},
   "source": [
    "## Compare the decoded to actual positions"
   ]
  },
  {
   "cell_type": "code",
   "execution_count": null,
   "metadata": {
    "ExecuteTime": {
     "end_time": "2019-09-30T15:00:16.032239Z",
     "start_time": "2019-09-30T15:00:16.025243Z"
    }
   },
   "outputs": [],
   "source": [
    "# Find the actual position for every decoded time point\n",
    "actual_x = np.interp(decoded.time, run_position.time, run_position.x)\n",
    "actual_y = np.interp(decoded.time, run_position.time, run_position.y)\n",
    "actual_position = nept.Position(np.hstack((actual_x[..., np.newaxis],\n",
    "                                           actual_y[..., np.newaxis])), decoded.time)"
   ]
  },
  {
   "cell_type": "code",
   "execution_count": null,
   "metadata": {
    "ExecuteTime": {
     "end_time": "2019-09-30T15:00:16.166163Z",
     "start_time": "2019-09-30T15:00:16.034238Z"
    }
   },
   "outputs": [],
   "source": [
    "# Plot the actual position\n",
    "plt.plot(actual_position.x, actual_position.y, 'g.', ms=1)\n",
    "plt.show()"
   ]
  },
  {
   "cell_type": "markdown",
   "metadata": {},
   "source": [
    "Notice the pedestal is not represented as round, as before. \n",
    "This is because we are interpolating to find an actual position \n",
    "that corresponds to each decoded time."
   ]
  },
  {
   "cell_type": "code",
   "execution_count": null,
   "metadata": {
    "ExecuteTime": {
     "end_time": "2019-09-30T15:00:16.277098Z",
     "start_time": "2019-09-30T15:00:16.167162Z"
    }
   },
   "outputs": [],
   "source": [
    "# Find the error between actual and decoded positions\n",
    "errors = actual_position.distance(decoded)\n",
    "print('Mean error:', np.mean(errors), 'cm')\n",
    "\n",
    "# Plot the errors\n",
    "plt.hist(errors)\n",
    "plt.show()"
   ]
  },
  {
   "cell_type": "code",
   "execution_count": null,
   "metadata": {},
   "outputs": [],
   "source": []
  }
 ],
 "metadata": {
  "anaconda-cloud": {},
  "kernelspec": {
   "display_name": "Python 3",
   "language": "python",
   "name": "python3"
  },
  "language_info": {
   "codemirror_mode": {
    "name": "ipython",
    "version": 3
   },
   "file_extension": ".py",
   "mimetype": "text/x-python",
   "name": "python",
   "nbconvert_exporter": "python",
   "pygments_lexer": "ipython3",
   "version": "3.8.2"
  },
  "toc": {
   "colors": {
    "hover_highlight": "#DAA520",
    "running_highlight": "#FF0000",
    "selected_highlight": "#FFD700"
   },
   "moveMenuLeft": true,
   "nav_menu": {
    "height": "281px",
    "width": "252px"
   },
   "navigate_menu": true,
   "number_sections": true,
   "sideBar": true,
   "threshold": 4,
   "toc_cell": false,
   "toc_section_display": "block",
   "toc_window_display": false
  }
 },
 "nbformat": 4,
 "nbformat_minor": 1
}
